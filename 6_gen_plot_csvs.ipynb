{
 "cells": [
  {
   "cell_type": "code",
   "execution_count": 1,
   "id": "ee842947",
   "metadata": {},
   "outputs": [],
   "source": [
    "import pandas as pd\n"
   ]
  },
  {
   "cell_type": "code",
   "execution_count": 3,
   "id": "aa89a585",
   "metadata": {},
   "outputs": [],
   "source": [
    "sim_df = pd.read_csv(\"2_SimUtilizationReport.csv\")"
   ]
  },
  {
   "cell_type": "code",
   "execution_count": 4,
   "id": "9b8674e1",
   "metadata": {},
   "outputs": [
    {
     "data": {
      "text/plain": [
       "(337, 4)"
      ]
     },
     "execution_count": 4,
     "metadata": {},
     "output_type": "execute_result"
    }
   ],
   "source": [
    "sim_df.shape"
   ]
  },
  {
   "cell_type": "code",
   "execution_count": 5,
   "id": "0ce1e541",
   "metadata": {},
   "outputs": [],
   "source": [
    "act_df = pd.read_csv(\"5_ActualSystemUtilization.csv\")"
   ]
  },
  {
   "cell_type": "code",
   "execution_count": 6,
   "id": "607dd77c",
   "metadata": {},
   "outputs": [
    {
     "data": {
      "text/plain": [
       "(715, 5)"
      ]
     },
     "execution_count": 6,
     "metadata": {},
     "output_type": "execute_result"
    }
   ],
   "source": [
    "act_df.shape"
   ]
  },
  {
   "cell_type": "code",
   "execution_count": 7,
   "id": "9859a205",
   "metadata": {},
   "outputs": [
    {
     "data": {
      "text/plain": [
       "Index(['Date', 'Time', 'System Utilization', 'Active Jobs'], dtype='object')"
      ]
     },
     "execution_count": 7,
     "metadata": {},
     "output_type": "execute_result"
    }
   ],
   "source": [
    "sim_df.columns"
   ]
  },
  {
   "cell_type": "code",
   "execution_count": 8,
   "id": "b9436b5b",
   "metadata": {},
   "outputs": [],
   "source": [
    "sim_df.rename(columns={\"System Utilization\": \"Simulation Utilization\"},inplace=True)"
   ]
  },
  {
   "cell_type": "code",
   "execution_count": 9,
   "id": "df4cc098",
   "metadata": {},
   "outputs": [
    {
     "data": {
      "text/html": [
       "<div>\n",
       "<style scoped>\n",
       "    .dataframe tbody tr th:only-of-type {\n",
       "        vertical-align: middle;\n",
       "    }\n",
       "\n",
       "    .dataframe tbody tr th {\n",
       "        vertical-align: top;\n",
       "    }\n",
       "\n",
       "    .dataframe thead th {\n",
       "        text-align: right;\n",
       "    }\n",
       "</style>\n",
       "<table border=\"1\" class=\"dataframe\">\n",
       "  <thead>\n",
       "    <tr style=\"text-align: right;\">\n",
       "      <th></th>\n",
       "      <th>Date</th>\n",
       "      <th>Time</th>\n",
       "      <th>Simulation Utilization</th>\n",
       "      <th>Active Jobs</th>\n",
       "    </tr>\n",
       "  </thead>\n",
       "  <tbody>\n",
       "    <tr>\n",
       "      <th>0</th>\n",
       "      <td>2021/03/08</td>\n",
       "      <td>21</td>\n",
       "      <td>41.340333</td>\n",
       "      <td>6.666667</td>\n",
       "    </tr>\n",
       "    <tr>\n",
       "      <th>1</th>\n",
       "      <td>2021/03/08</td>\n",
       "      <td>22</td>\n",
       "      <td>77.925667</td>\n",
       "      <td>18.000000</td>\n",
       "    </tr>\n",
       "    <tr>\n",
       "      <th>2</th>\n",
       "      <td>2021/03/08</td>\n",
       "      <td>23</td>\n",
       "      <td>82.372500</td>\n",
       "      <td>23.000000</td>\n",
       "    </tr>\n",
       "    <tr>\n",
       "      <th>3</th>\n",
       "      <td>2021/03/09</td>\n",
       "      <td>0</td>\n",
       "      <td>47.844167</td>\n",
       "      <td>26.333333</td>\n",
       "    </tr>\n",
       "    <tr>\n",
       "      <th>4</th>\n",
       "      <td>2021/03/09</td>\n",
       "      <td>1</td>\n",
       "      <td>47.179333</td>\n",
       "      <td>25.333333</td>\n",
       "    </tr>\n",
       "    <tr>\n",
       "      <th>...</th>\n",
       "      <td>...</td>\n",
       "      <td>...</td>\n",
       "      <td>...</td>\n",
       "      <td>...</td>\n",
       "    </tr>\n",
       "    <tr>\n",
       "      <th>332</th>\n",
       "      <td>2021/03/22</td>\n",
       "      <td>17</td>\n",
       "      <td>98.509333</td>\n",
       "      <td>74.333333</td>\n",
       "    </tr>\n",
       "    <tr>\n",
       "      <th>333</th>\n",
       "      <td>2021/03/22</td>\n",
       "      <td>18</td>\n",
       "      <td>99.150000</td>\n",
       "      <td>74.833333</td>\n",
       "    </tr>\n",
       "    <tr>\n",
       "      <th>334</th>\n",
       "      <td>2021/03/22</td>\n",
       "      <td>19</td>\n",
       "      <td>98.374000</td>\n",
       "      <td>75.000000</td>\n",
       "    </tr>\n",
       "    <tr>\n",
       "      <th>335</th>\n",
       "      <td>2021/03/22</td>\n",
       "      <td>20</td>\n",
       "      <td>97.684333</td>\n",
       "      <td>75.166667</td>\n",
       "    </tr>\n",
       "    <tr>\n",
       "      <th>336</th>\n",
       "      <td>2021/03/22</td>\n",
       "      <td>21</td>\n",
       "      <td>99.728667</td>\n",
       "      <td>74.333333</td>\n",
       "    </tr>\n",
       "  </tbody>\n",
       "</table>\n",
       "<p>337 rows × 4 columns</p>\n",
       "</div>"
      ],
      "text/plain": [
       "           Date  Time  Simulation Utilization  Active Jobs\n",
       "0    2021/03/08    21               41.340333     6.666667\n",
       "1    2021/03/08    22               77.925667    18.000000\n",
       "2    2021/03/08    23               82.372500    23.000000\n",
       "3    2021/03/09     0               47.844167    26.333333\n",
       "4    2021/03/09     1               47.179333    25.333333\n",
       "..          ...   ...                     ...          ...\n",
       "332  2021/03/22    17               98.509333    74.333333\n",
       "333  2021/03/22    18               99.150000    74.833333\n",
       "334  2021/03/22    19               98.374000    75.000000\n",
       "335  2021/03/22    20               97.684333    75.166667\n",
       "336  2021/03/22    21               99.728667    74.333333\n",
       "\n",
       "[337 rows x 4 columns]"
      ]
     },
     "execution_count": 9,
     "metadata": {},
     "output_type": "execute_result"
    }
   ],
   "source": [
    "sim_df"
   ]
  },
  {
   "cell_type": "code",
   "execution_count": 10,
   "id": "1dbf2c1b",
   "metadata": {},
   "outputs": [
    {
     "data": {
      "text/html": [
       "<div>\n",
       "<style scoped>\n",
       "    .dataframe tbody tr th:only-of-type {\n",
       "        vertical-align: middle;\n",
       "    }\n",
       "\n",
       "    .dataframe tbody tr th {\n",
       "        vertical-align: top;\n",
       "    }\n",
       "\n",
       "    .dataframe thead th {\n",
       "        text-align: right;\n",
       "    }\n",
       "</style>\n",
       "<table border=\"1\" class=\"dataframe\">\n",
       "  <thead>\n",
       "    <tr style=\"text-align: right;\">\n",
       "      <th></th>\n",
       "      <th>Date</th>\n",
       "      <th>Hours</th>\n",
       "      <th>Up</th>\n",
       "      <th>Reserved</th>\n",
       "      <th>SystemUtilization</th>\n",
       "    </tr>\n",
       "  </thead>\n",
       "  <tbody>\n",
       "    <tr>\n",
       "      <th>0</th>\n",
       "      <td>2021/03/01</td>\n",
       "      <td>21</td>\n",
       "      <td>1399.00</td>\n",
       "      <td>1364.45</td>\n",
       "      <td>97.53</td>\n",
       "    </tr>\n",
       "    <tr>\n",
       "      <th>1</th>\n",
       "      <td>2021/03/01</td>\n",
       "      <td>22</td>\n",
       "      <td>1399.00</td>\n",
       "      <td>1362.35</td>\n",
       "      <td>97.38</td>\n",
       "    </tr>\n",
       "    <tr>\n",
       "      <th>2</th>\n",
       "      <td>2021/03/01</td>\n",
       "      <td>23</td>\n",
       "      <td>1400.35</td>\n",
       "      <td>1359.15</td>\n",
       "      <td>97.06</td>\n",
       "    </tr>\n",
       "    <tr>\n",
       "      <th>3</th>\n",
       "      <td>2021/03/02</td>\n",
       "      <td>0</td>\n",
       "      <td>1402.00</td>\n",
       "      <td>1361.40</td>\n",
       "      <td>97.10</td>\n",
       "    </tr>\n",
       "    <tr>\n",
       "      <th>4</th>\n",
       "      <td>2021/03/02</td>\n",
       "      <td>1</td>\n",
       "      <td>1402.00</td>\n",
       "      <td>1361.10</td>\n",
       "      <td>97.08</td>\n",
       "    </tr>\n",
       "    <tr>\n",
       "      <th>...</th>\n",
       "      <td>...</td>\n",
       "      <td>...</td>\n",
       "      <td>...</td>\n",
       "      <td>...</td>\n",
       "      <td>...</td>\n",
       "    </tr>\n",
       "    <tr>\n",
       "      <th>710</th>\n",
       "      <td>2021/03/31</td>\n",
       "      <td>17</td>\n",
       "      <td>1363.00</td>\n",
       "      <td>221.75</td>\n",
       "      <td>16.27</td>\n",
       "    </tr>\n",
       "    <tr>\n",
       "      <th>711</th>\n",
       "      <td>2021/03/31</td>\n",
       "      <td>18</td>\n",
       "      <td>1363.00</td>\n",
       "      <td>197.35</td>\n",
       "      <td>14.48</td>\n",
       "    </tr>\n",
       "    <tr>\n",
       "      <th>712</th>\n",
       "      <td>2021/03/31</td>\n",
       "      <td>19</td>\n",
       "      <td>1363.00</td>\n",
       "      <td>159.40</td>\n",
       "      <td>11.69</td>\n",
       "    </tr>\n",
       "    <tr>\n",
       "      <th>713</th>\n",
       "      <td>2021/03/31</td>\n",
       "      <td>20</td>\n",
       "      <td>1363.00</td>\n",
       "      <td>149.35</td>\n",
       "      <td>10.96</td>\n",
       "    </tr>\n",
       "    <tr>\n",
       "      <th>714</th>\n",
       "      <td>2021/03/31</td>\n",
       "      <td>21</td>\n",
       "      <td>1363.00</td>\n",
       "      <td>147.00</td>\n",
       "      <td>10.79</td>\n",
       "    </tr>\n",
       "  </tbody>\n",
       "</table>\n",
       "<p>715 rows × 5 columns</p>\n",
       "</div>"
      ],
      "text/plain": [
       "           Date  Hours       Up  Reserved  SystemUtilization\n",
       "0    2021/03/01     21  1399.00   1364.45              97.53\n",
       "1    2021/03/01     22  1399.00   1362.35              97.38\n",
       "2    2021/03/01     23  1400.35   1359.15              97.06\n",
       "3    2021/03/02      0  1402.00   1361.40              97.10\n",
       "4    2021/03/02      1  1402.00   1361.10              97.08\n",
       "..          ...    ...      ...       ...                ...\n",
       "710  2021/03/31     17  1363.00    221.75              16.27\n",
       "711  2021/03/31     18  1363.00    197.35              14.48\n",
       "712  2021/03/31     19  1363.00    159.40              11.69\n",
       "713  2021/03/31     20  1363.00    149.35              10.96\n",
       "714  2021/03/31     21  1363.00    147.00              10.79\n",
       "\n",
       "[715 rows x 5 columns]"
      ]
     },
     "execution_count": 10,
     "metadata": {},
     "output_type": "execute_result"
    }
   ],
   "source": [
    "act_df"
   ]
  },
  {
   "cell_type": "code",
   "execution_count": 11,
   "id": "9d3bb3a9",
   "metadata": {},
   "outputs": [],
   "source": [
    "sim_df[\"Actual Utilization\"] = act_df[\"SystemUtilization\"]"
   ]
  },
  {
   "cell_type": "code",
   "execution_count": 12,
   "id": "c195331c",
   "metadata": {},
   "outputs": [
    {
     "data": {
      "text/html": [
       "<div>\n",
       "<style scoped>\n",
       "    .dataframe tbody tr th:only-of-type {\n",
       "        vertical-align: middle;\n",
       "    }\n",
       "\n",
       "    .dataframe tbody tr th {\n",
       "        vertical-align: top;\n",
       "    }\n",
       "\n",
       "    .dataframe thead th {\n",
       "        text-align: right;\n",
       "    }\n",
       "</style>\n",
       "<table border=\"1\" class=\"dataframe\">\n",
       "  <thead>\n",
       "    <tr style=\"text-align: right;\">\n",
       "      <th></th>\n",
       "      <th>Date</th>\n",
       "      <th>Time</th>\n",
       "      <th>Simulation Utilization</th>\n",
       "      <th>Active Jobs</th>\n",
       "      <th>Actual Utilization</th>\n",
       "    </tr>\n",
       "  </thead>\n",
       "  <tbody>\n",
       "    <tr>\n",
       "      <th>0</th>\n",
       "      <td>2021/03/08</td>\n",
       "      <td>21</td>\n",
       "      <td>41.340333</td>\n",
       "      <td>6.666667</td>\n",
       "      <td>97.53</td>\n",
       "    </tr>\n",
       "    <tr>\n",
       "      <th>1</th>\n",
       "      <td>2021/03/08</td>\n",
       "      <td>22</td>\n",
       "      <td>77.925667</td>\n",
       "      <td>18.000000</td>\n",
       "      <td>97.38</td>\n",
       "    </tr>\n",
       "    <tr>\n",
       "      <th>2</th>\n",
       "      <td>2021/03/08</td>\n",
       "      <td>23</td>\n",
       "      <td>82.372500</td>\n",
       "      <td>23.000000</td>\n",
       "      <td>97.06</td>\n",
       "    </tr>\n",
       "    <tr>\n",
       "      <th>3</th>\n",
       "      <td>2021/03/09</td>\n",
       "      <td>0</td>\n",
       "      <td>47.844167</td>\n",
       "      <td>26.333333</td>\n",
       "      <td>97.10</td>\n",
       "    </tr>\n",
       "    <tr>\n",
       "      <th>4</th>\n",
       "      <td>2021/03/09</td>\n",
       "      <td>1</td>\n",
       "      <td>47.179333</td>\n",
       "      <td>25.333333</td>\n",
       "      <td>97.08</td>\n",
       "    </tr>\n",
       "    <tr>\n",
       "      <th>...</th>\n",
       "      <td>...</td>\n",
       "      <td>...</td>\n",
       "      <td>...</td>\n",
       "      <td>...</td>\n",
       "      <td>...</td>\n",
       "    </tr>\n",
       "    <tr>\n",
       "      <th>332</th>\n",
       "      <td>2021/03/22</td>\n",
       "      <td>17</td>\n",
       "      <td>98.509333</td>\n",
       "      <td>74.333333</td>\n",
       "      <td>95.38</td>\n",
       "    </tr>\n",
       "    <tr>\n",
       "      <th>333</th>\n",
       "      <td>2021/03/22</td>\n",
       "      <td>18</td>\n",
       "      <td>99.150000</td>\n",
       "      <td>74.833333</td>\n",
       "      <td>95.41</td>\n",
       "    </tr>\n",
       "    <tr>\n",
       "      <th>334</th>\n",
       "      <td>2021/03/22</td>\n",
       "      <td>19</td>\n",
       "      <td>98.374000</td>\n",
       "      <td>75.000000</td>\n",
       "      <td>95.40</td>\n",
       "    </tr>\n",
       "    <tr>\n",
       "      <th>335</th>\n",
       "      <td>2021/03/22</td>\n",
       "      <td>20</td>\n",
       "      <td>97.684333</td>\n",
       "      <td>75.166667</td>\n",
       "      <td>95.33</td>\n",
       "    </tr>\n",
       "    <tr>\n",
       "      <th>336</th>\n",
       "      <td>2021/03/22</td>\n",
       "      <td>21</td>\n",
       "      <td>99.728667</td>\n",
       "      <td>74.333333</td>\n",
       "      <td>95.22</td>\n",
       "    </tr>\n",
       "  </tbody>\n",
       "</table>\n",
       "<p>337 rows × 5 columns</p>\n",
       "</div>"
      ],
      "text/plain": [
       "           Date  Time  Simulation Utilization  Active Jobs  Actual Utilization\n",
       "0    2021/03/08    21               41.340333     6.666667               97.53\n",
       "1    2021/03/08    22               77.925667    18.000000               97.38\n",
       "2    2021/03/08    23               82.372500    23.000000               97.06\n",
       "3    2021/03/09     0               47.844167    26.333333               97.10\n",
       "4    2021/03/09     1               47.179333    25.333333               97.08\n",
       "..          ...   ...                     ...          ...                 ...\n",
       "332  2021/03/22    17               98.509333    74.333333               95.38\n",
       "333  2021/03/22    18               99.150000    74.833333               95.41\n",
       "334  2021/03/22    19               98.374000    75.000000               95.40\n",
       "335  2021/03/22    20               97.684333    75.166667               95.33\n",
       "336  2021/03/22    21               99.728667    74.333333               95.22\n",
       "\n",
       "[337 rows x 5 columns]"
      ]
     },
     "execution_count": 12,
     "metadata": {},
     "output_type": "execute_result"
    }
   ],
   "source": [
    "sim_df"
   ]
  },
  {
   "cell_type": "code",
   "execution_count": 15,
   "id": "2e095b46",
   "metadata": {},
   "outputs": [],
   "source": [
    "sim_df[[\"Date\",\"Time\",\"Simulation Utilization\",\"Actual Utilization\"]].to_csv(\"7_plot.csv\")"
   ]
  },
  {
   "cell_type": "code",
   "execution_count": 16,
   "id": "94ee318d",
   "metadata": {},
   "outputs": [],
   "source": [
    "sim_df[[\"Date\",\"Time\",\"Simulation Utilization\",\"Actual Utilization\"]].groupby(\"Date\").mean().to_csv(\"8_average_plot.csv\")"
   ]
  }
 ],
 "metadata": {
  "kernelspec": {
   "display_name": "base",
   "language": "python",
   "name": "python3"
  },
  "language_info": {
   "codemirror_mode": {
    "name": "ipython",
    "version": 3
   },
   "file_extension": ".py",
   "mimetype": "text/x-python",
   "name": "python",
   "nbconvert_exporter": "python",
   "pygments_lexer": "ipython3",
   "version": "3.8.15"
  },
  "vscode": {
   "interpreter": {
    "hash": "c2eb2610c47eee8ff071b998424428e9458521a2488c93ba3a1cb60eeab2e344"
   }
  }
 },
 "nbformat": 4,
 "nbformat_minor": 5
}
